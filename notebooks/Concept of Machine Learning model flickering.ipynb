{
 "cells": [
  {
   "cell_type": "code",
   "execution_count": 1,
   "metadata": {
    "collapsed": true
   },
   "outputs": [],
   "source": [
    "%matplotlib notebook\n",
    "import matplotlib.pyplot as plt\n",
    "import seaborn as sns; sns.set()\n",
    "import numpy as np\n",
    "\n",
    "from ipywidgets import interact, interactive, fixed, interact_manual\n",
    "import ipywidgets as widgets\n",
    "from IPython import display"
   ]
  },
  {
   "cell_type": "code",
   "execution_count": 2,
   "metadata": {
    "collapsed": true
   },
   "outputs": [],
   "source": [
    "def interact_scatter_line(a, b):\n",
    "    min_x, max_x = -4.5, 11.5\n",
    "    rng          = np.random.RandomState(1)\n",
    "    x            = 15 * rng.rand(100) - 4\n",
    "    y_scatter    = 1/3 * x ** 2 - 3 * x - 7 + 6 * (rng.rand(100) - 0.5)\n",
    "    min_y, max_y = y_scatter.min(), y_scatter.max()\n",
    "    y_line       = a * x + b\n",
    "    plt.figure()\n",
    "    plt.xlim([min_x, max_x])\n",
    "    plt.ylim([min_y - 0.5, max_y + 0.5])\n",
    "    ax = plt.gca()\n",
    "    ax.scatter(x, y_scatter)\n",
    "    ax.plot(x, y_line)"
   ]
  },
  {
   "cell_type": "code",
   "execution_count": 3,
   "metadata": {},
   "outputs": [
    {
     "data": {
      "application/vnd.jupyter.widget-view+json": {
       "model_id": "c71b684811674ac09a87d07219951662"
      }
     },
     "metadata": {},
     "output_type": "display_data"
    },
    {
     "data": {
      "text/plain": [
       "<function __main__.interact_scatter_line>"
      ]
     },
     "execution_count": 3,
     "metadata": {},
     "output_type": "execute_result"
    }
   ],
   "source": [
    "interact(interact_scatter_line, a = (-15, 15, 1), b = (-30, 30, 1))"
   ]
  },
  {
   "cell_type": "code",
   "execution_count": 4,
   "metadata": {
    "collapsed": true
   },
   "outputs": [],
   "source": [
    "def interact_scatter_poly(a, b, c):\n",
    "    min_x, max_x = -4.5, 11.5\n",
    "    rng          = np.random.RandomState(1)\n",
    "    x            = 15 * rng.rand(100) - 4\n",
    "    y_scatter    = 0.3 * x ** 2 - 3 * x - 7 + 6 * (rng.rand(100) - 0.5)\n",
    "    min_y, max_y = y_scatter.min(), y_scatter.max()\n",
    "    lin_x        = np.linspace(min_x, max_x, 200)\n",
    "    y_poly       = a * lin_x ** 2 + b * lin_x + c\n",
    "    plt.figure()\n",
    "    plt.xlim([min_x, max_x])\n",
    "    plt.ylim([min_y - 0.5, max_y + 0.5])\n",
    "    ax = plt.gca()\n",
    "    ax.scatter(x, y_scatter)\n",
    "    ax.plot(lin_x, y_poly)"
   ]
  },
  {
   "cell_type": "code",
   "execution_count": 5,
   "metadata": {},
   "outputs": [
    {
     "data": {
      "application/vnd.jupyter.widget-view+json": {
       "model_id": "59802f916a814c6ca5bb798ba08a7a09"
      }
     },
     "metadata": {},
     "output_type": "display_data"
    },
    {
     "data": {
      "text/plain": [
       "<function __main__.interact_scatter_poly>"
      ]
     },
     "execution_count": 5,
     "metadata": {},
     "output_type": "execute_result"
    }
   ],
   "source": [
    "interact(interact_scatter_poly, a = (-2, 2, 0.05), b = (-15, 15, 1), c = (-30, 30, 1))"
   ]
  }
 ],
 "metadata": {
  "anaconda-cloud": {},
  "kernelspec": {
   "display_name": "Python [default]",
   "language": "python",
   "name": "python3"
  },
  "language_info": {
   "codemirror_mode": {
    "name": "ipython",
    "version": 3
   },
   "file_extension": ".py",
   "mimetype": "text/x-python",
   "name": "python",
   "nbconvert_exporter": "python",
   "pygments_lexer": "ipython3",
   "version": "3.5.3"
  }
 },
 "nbformat": 4,
 "nbformat_minor": 2
}
